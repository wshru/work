{
 "cells": [
  {
   "cell_type": "code",
   "execution_count": 8,
   "metadata": {
    "colab": {
     "base_uri": "https://localhost:8080/",
     "height": 206
    },
    "id": "38LNuiK9H3Bk",
    "outputId": "02ac1c27-301a-4edd-96de-7a7d094baa26"
   },
   "outputs": [
    {
     "data": {
      "text/html": [
       "<div>\n",
       "<style scoped>\n",
       "    .dataframe tbody tr th:only-of-type {\n",
       "        vertical-align: middle;\n",
       "    }\n",
       "\n",
       "    .dataframe tbody tr th {\n",
       "        vertical-align: top;\n",
       "    }\n",
       "\n",
       "    .dataframe thead th {\n",
       "        text-align: right;\n",
       "    }\n",
       "</style>\n",
       "<table border=\"1\" class=\"dataframe\">\n",
       "  <thead>\n",
       "    <tr style=\"text-align: right;\">\n",
       "      <th></th>\n",
       "      <th>crim</th>\n",
       "      <th>zn</th>\n",
       "      <th>indus</th>\n",
       "      <th>chas</th>\n",
       "      <th>nox</th>\n",
       "      <th>rm</th>\n",
       "      <th>age</th>\n",
       "      <th>dis</th>\n",
       "      <th>rad</th>\n",
       "      <th>tax</th>\n",
       "      <th>ptratio</th>\n",
       "      <th>b</th>\n",
       "      <th>lstat</th>\n",
       "      <th>medv</th>\n",
       "    </tr>\n",
       "  </thead>\n",
       "  <tbody>\n",
       "    <tr>\n",
       "      <th>0</th>\n",
       "      <td>0.00632</td>\n",
       "      <td>18.0</td>\n",
       "      <td>2.31</td>\n",
       "      <td>0</td>\n",
       "      <td>0.538</td>\n",
       "      <td>6.575</td>\n",
       "      <td>65.2</td>\n",
       "      <td>4.0900</td>\n",
       "      <td>1</td>\n",
       "      <td>296</td>\n",
       "      <td>15.3</td>\n",
       "      <td>396.90</td>\n",
       "      <td>4.98</td>\n",
       "      <td>24.0</td>\n",
       "    </tr>\n",
       "    <tr>\n",
       "      <th>1</th>\n",
       "      <td>0.02731</td>\n",
       "      <td>0.0</td>\n",
       "      <td>7.07</td>\n",
       "      <td>0</td>\n",
       "      <td>0.469</td>\n",
       "      <td>6.421</td>\n",
       "      <td>78.9</td>\n",
       "      <td>4.9671</td>\n",
       "      <td>2</td>\n",
       "      <td>242</td>\n",
       "      <td>17.8</td>\n",
       "      <td>396.90</td>\n",
       "      <td>9.14</td>\n",
       "      <td>21.6</td>\n",
       "    </tr>\n",
       "    <tr>\n",
       "      <th>2</th>\n",
       "      <td>0.02729</td>\n",
       "      <td>0.0</td>\n",
       "      <td>7.07</td>\n",
       "      <td>0</td>\n",
       "      <td>0.469</td>\n",
       "      <td>7.185</td>\n",
       "      <td>61.1</td>\n",
       "      <td>4.9671</td>\n",
       "      <td>2</td>\n",
       "      <td>242</td>\n",
       "      <td>17.8</td>\n",
       "      <td>392.83</td>\n",
       "      <td>4.03</td>\n",
       "      <td>34.7</td>\n",
       "    </tr>\n",
       "    <tr>\n",
       "      <th>3</th>\n",
       "      <td>0.03237</td>\n",
       "      <td>0.0</td>\n",
       "      <td>2.18</td>\n",
       "      <td>0</td>\n",
       "      <td>0.458</td>\n",
       "      <td>6.998</td>\n",
       "      <td>45.8</td>\n",
       "      <td>6.0622</td>\n",
       "      <td>3</td>\n",
       "      <td>222</td>\n",
       "      <td>18.7</td>\n",
       "      <td>394.63</td>\n",
       "      <td>2.94</td>\n",
       "      <td>33.4</td>\n",
       "    </tr>\n",
       "    <tr>\n",
       "      <th>4</th>\n",
       "      <td>0.06905</td>\n",
       "      <td>0.0</td>\n",
       "      <td>2.18</td>\n",
       "      <td>0</td>\n",
       "      <td>0.458</td>\n",
       "      <td>7.147</td>\n",
       "      <td>54.2</td>\n",
       "      <td>6.0622</td>\n",
       "      <td>3</td>\n",
       "      <td>222</td>\n",
       "      <td>18.7</td>\n",
       "      <td>396.90</td>\n",
       "      <td>5.33</td>\n",
       "      <td>36.2</td>\n",
       "    </tr>\n",
       "  </tbody>\n",
       "</table>\n",
       "</div>"
      ],
      "text/plain": [
       "      crim    zn  indus  chas    nox     rm   age     dis  rad  tax  ptratio  \\\n",
       "0  0.00632  18.0   2.31     0  0.538  6.575  65.2  4.0900    1  296     15.3   \n",
       "1  0.02731   0.0   7.07     0  0.469  6.421  78.9  4.9671    2  242     17.8   \n",
       "2  0.02729   0.0   7.07     0  0.469  7.185  61.1  4.9671    2  242     17.8   \n",
       "3  0.03237   0.0   2.18     0  0.458  6.998  45.8  6.0622    3  222     18.7   \n",
       "4  0.06905   0.0   2.18     0  0.458  7.147  54.2  6.0622    3  222     18.7   \n",
       "\n",
       "        b  lstat  medv  \n",
       "0  396.90   4.98  24.0  \n",
       "1  396.90   9.14  21.6  \n",
       "2  392.83   4.03  34.7  \n",
       "3  394.63   2.94  33.4  \n",
       "4  396.90   5.33  36.2  "
      ]
     },
     "execution_count": 8,
     "metadata": {},
     "output_type": "execute_result"
    }
   ],
   "source": [
    "import pandas as pd\n",
    "import numpy as np\n",
    "from tensorflow import keras\n",
    "from sklearn.model_selection import train_test_split\n",
    "\n",
    "# Load the data from a CSV file\n",
    "df = pd.read_csv(r'C:\\Users\\Deepti Wandhekar\\Downloads\\boston_housing_dataset.csv')\n",
    "df.head()"
   ]
  },
  {
   "cell_type": "code",
   "execution_count": 9,
   "metadata": {
    "colab": {
     "base_uri": "https://localhost:8080/",
     "height": 0
    },
    "id": "k9SuNlE4w_U1",
    "outputId": "e6988ed2-b322-4395-d301-ca133491d872"
   },
   "outputs": [
    {
     "data": {
      "text/plain": [
       "(506, 14)"
      ]
     },
     "execution_count": 9,
     "metadata": {},
     "output_type": "execute_result"
    }
   ],
   "source": [
    "df.shape"
   ]
  },
  {
   "cell_type": "code",
   "execution_count": 10,
   "metadata": {
    "colab": {
     "base_uri": "https://localhost:8080/",
     "height": 0
    },
    "id": "GMBTYgGsxD-B",
    "outputId": "498011aa-9cd0-49c6-c413-58813052c1a3"
   },
   "outputs": [
    {
     "data": {
      "text/plain": [
       "crim       0\n",
       "zn         0\n",
       "indus      0\n",
       "chas       0\n",
       "nox        0\n",
       "rm         0\n",
       "age        0\n",
       "dis        0\n",
       "rad        0\n",
       "tax        0\n",
       "ptratio    0\n",
       "b          0\n",
       "lstat      0\n",
       "medv       0\n",
       "dtype: int64"
      ]
     },
     "execution_count": 10,
     "metadata": {},
     "output_type": "execute_result"
    }
   ],
   "source": [
    "df.isnull().sum()"
   ]
  },
  {
   "cell_type": "code",
   "execution_count": 11,
   "metadata": {
    "colab": {
     "base_uri": "https://localhost:8080/",
     "height": 0
    },
    "id": "G8Ovf79SxHfB",
    "outputId": "f9dbd4ae-9185-49f2-ef53-f832417f8046"
   },
   "outputs": [
    {
     "name": "stdout",
     "output_type": "stream",
     "text": [
      "<class 'pandas.core.frame.DataFrame'>\n",
      "RangeIndex: 506 entries, 0 to 505\n",
      "Data columns (total 14 columns):\n",
      " #   Column   Non-Null Count  Dtype  \n",
      "---  ------   --------------  -----  \n",
      " 0   crim     506 non-null    float64\n",
      " 1   zn       506 non-null    float64\n",
      " 2   indus    506 non-null    float64\n",
      " 3   chas     506 non-null    int64  \n",
      " 4   nox      506 non-null    float64\n",
      " 5   rm       506 non-null    float64\n",
      " 6   age      506 non-null    float64\n",
      " 7   dis      506 non-null    float64\n",
      " 8   rad      506 non-null    int64  \n",
      " 9   tax      506 non-null    int64  \n",
      " 10  ptratio  506 non-null    float64\n",
      " 11  b        506 non-null    float64\n",
      " 12  lstat    506 non-null    float64\n",
      " 13  medv     506 non-null    float64\n",
      "dtypes: float64(11), int64(3)\n",
      "memory usage: 55.5 KB\n"
     ]
    }
   ],
   "source": [
    "df.info()"
   ]
  },
  {
   "cell_type": "code",
   "execution_count": 12,
   "metadata": {
    "id": "WoHQiZgdw5x2"
   },
   "outputs": [],
   "source": [
    "# Split the data into input (X) and output (y) variables\n",
    "#df refers to a pandas DataFrame object that contains your dataset.\n",
    "#drop(['medv'], axis=1) removes the column named 'medv' from the DataFrame. The axis=1 parameter indicates that the column is to be dropped.\n",
    "#.values converts the resulting DataFrame (without the 'medv' column) into a numpy array, which is commonly used as input for machine learning algorithms. This array will be assigned to the X variable.\n",
    "X = df.drop(['medv'], axis=1).values\n",
    "y = df['medv'].values\n",
    "\n",
    "# Split the data into training and testing sets\n",
    "#random_state=42 sets the random seed to 42, ensuring that the same random split is obtained each time you run the code. This helps with reproducibility.\n",
    "X_train, X_test, y_train, y_test = train_test_split(X, y, test_size=0.2, random_state=42)"
   ]
  },
  {
   "cell_type": "code",
   "execution_count": 13,
   "metadata": {
    "colab": {
     "base_uri": "https://localhost:8080/",
     "height": 0
    },
    "id": "97TJkhuJj-sE",
    "outputId": "c3be352a-e8db-40cf-fd50-b771811087a7"
   },
   "outputs": [
    {
     "name": "stdout",
     "output_type": "stream",
     "text": [
      "Test loss: 64.05550384521484\n"
     ]
    }
   ],
   "source": [
    "# Create a model with a linear regression layer. model = keras.Sequential([...]): This creates a sequential model object, which is a linear stack of layers.\n",
    "#keras.layers.Dense(units=1, input_shape=[13]): This line defines a dense layer in the model. The Dense layer is a fully connected layer, where each neuron is connected to every neuron in the previous layer.\n",
    "model = keras.Sequential([\n",
    "    keras.layers.Dense(units=1, input_shape=[13])\n",
    "])\n",
    "\n",
    "# Compile the model with a mean squared error loss function and an optimizer.loss='mean_squared_error': This parameter specifies the loss function to be used during training. In this case, the mean squared error (MSE) is chosen as the loss function. The MSE is commonly used for regression tasks and calculates the average squared difference between the predicted and true values.\n",
    "#optimizer='adam': This parameter specifies the optimizer algorithm to be used during training. Adam is a popular optimization algorithm that adapts the learning rate during training and combines the benefits of two other extensions to stochastic gradient descent: AdaGrad and RMSProp.\n",
    "model.compile(loss='mean_squared_error', optimizer='adam')\n",
    "\n",
    "# Train the model on the training dataepochs=100: This parameter specifies the number of training epochs, which is the number of times the model will iterate over the entire training dataset during training.\n",
    "#batch_size=10: This parameter determines the number of samples per gradient update. The training data will be divided into mini-batches of size 10, and the model's parameters will be updated after each batch.\n",
    "#verbose=0: This parameter controls the verbosity of the training output. Setting verbose=0 means no progress bar or log messages will be displayed during training.\n",
    "#The model.fit() function trains the model using the specified parameters and returns a history object. The history object contains information about the training process, such as the training and validation loss values at each epoch.\n",
    "\n",
    "history = model.fit(X_train, y_train, validation_split=0.2, epochs=100, batch_size=10, verbose=0)\n",
    "\n",
    "# Evaluate the model on the testing data\n",
    "test_loss = model.evaluate(X_test, y_test,verbose = 0)\n",
    "\n",
    "# Print the test loss\n",
    "print('Test loss:', test_loss)"
   ]
  },
  {
   "cell_type": "code",
   "execution_count": 14,
   "metadata": {
    "colab": {
     "base_uri": "https://localhost:8080/",
     "height": 0
    },
    "id": "AXD8Sls2lgkF",
    "outputId": "c4ea5d24-4931-47ae-b5a0-3fb27de812bb"
   },
   "outputs": [
    {
     "name": "stdout",
     "output_type": "stream",
     "text": [
      "4/4 [==============================] - 0s 3ms/step\n",
      "Actual price: 23.6, Predicted price: 28.264986038208008\n",
      "Actual price: 32.4, Predicted price: 24.9316463470459\n",
      "Actual price: 13.6, Predicted price: 29.876859664916992\n",
      "Actual price: 22.8, Predicted price: 18.40966033935547\n",
      "Actual price: 16.1, Predicted price: 21.663427352905273\n",
      "Actual price: 20.0, Predicted price: 25.738365173339844\n",
      "Actual price: 17.8, Predicted price: 23.890085220336914\n",
      "Actual price: 14.0, Predicted price: 21.697975158691406\n",
      "Actual price: 19.6, Predicted price: 23.858463287353516\n",
      "Actual price: 16.8, Predicted price: 26.143817901611328\n"
     ]
    }
   ],
   "source": [
    "predictions = model.predict(X_test)\n",
    "for i in range(10):\n",
    "    print(f'Actual price: {y_test[i]}, Predicted price: {predictions[i][0]}')"
   ]
  },
  {
   "cell_type": "code",
   "execution_count": null,
   "metadata": {},
   "outputs": [],
   "source": []
  },
  {
   "cell_type": "code",
   "execution_count": null,
   "metadata": {},
   "outputs": [],
   "source": []
  },
  {
   "cell_type": "code",
   "execution_count": null,
   "metadata": {},
   "outputs": [],
   "source": []
  },
  {
   "cell_type": "code",
   "execution_count": null,
   "metadata": {},
   "outputs": [],
   "source": []
  },
  {
   "cell_type": "code",
   "execution_count": null,
   "metadata": {},
   "outputs": [],
   "source": []
  },
  {
   "cell_type": "code",
   "execution_count": null,
   "metadata": {},
   "outputs": [],
   "source": []
  },
  {
   "cell_type": "code",
   "execution_count": null,
   "metadata": {},
   "outputs": [],
   "source": []
  },
  {
   "cell_type": "code",
   "execution_count": null,
   "metadata": {},
   "outputs": [],
   "source": []
  },
  {
   "cell_type": "code",
   "execution_count": null,
   "metadata": {},
   "outputs": [],
   "source": []
  },
  {
   "cell_type": "code",
   "execution_count": null,
   "metadata": {},
   "outputs": [],
   "source": []
  },
  {
   "cell_type": "code",
   "execution_count": null,
   "metadata": {},
   "outputs": [],
   "source": []
  },
  {
   "cell_type": "code",
   "execution_count": null,
   "metadata": {},
   "outputs": [],
   "source": []
  },
  {
   "cell_type": "code",
   "execution_count": null,
   "metadata": {},
   "outputs": [],
   "source": []
  },
  {
   "cell_type": "code",
   "execution_count": null,
   "metadata": {},
   "outputs": [],
   "source": []
  },
  {
   "cell_type": "code",
   "execution_count": null,
   "metadata": {},
   "outputs": [],
   "source": []
  },
  {
   "cell_type": "code",
   "execution_count": null,
   "metadata": {},
   "outputs": [],
   "source": []
  },
  {
   "cell_type": "code",
   "execution_count": null,
   "metadata": {},
   "outputs": [],
   "source": []
  },
  {
   "cell_type": "code",
   "execution_count": null,
   "metadata": {},
   "outputs": [],
   "source": [
    "## Dataset:\n",
    "Boston House Price Prediction is a well-known dataset in machine learning and is often used to\n",
    "demonstrate regression analysis techniques. The dataset contains information about 506 houses in Boston,\n",
    "Massachusetts, USA. The goal is to predict the median value of owner-occupied homes in thousands of\n",
    "dollars.\n",
    "\n",
    "\n",
    "\n",
    "##linear regression: \n",
    "Linear regression is a statistical modeling technique used to determine the relationship between a dependent variable and one or more independent variables. It aims to find a linear equation that best fits the given data points and can be used to predict the dependent variable based on the independent variables\n",
    "Linear regression is one of the easiest and most popular Machine Learning algorithms. It is a statistical method that is used for predictive analysis. Linear regression makes predictions for continuous/real or numeric variables such as sales, salary, age, product price, etc.\n",
    "Linear regression algorithm shows a linear relationship between a dependent (y) and one or more independent (y) variables, hence called as linear regression. \n",
    "##Applications:\n",
    "Market analysis. ...\n",
    "Financial analysis. ...\n",
    "Sports analysis. ...\n",
    "Environmental health. ...\n",
    "Medicine. ...\n",
    "Least squares. ...\n",
    "Gradient descent\n",
    "##Regression:\n",
    "Regression analysis is a statistical method to model the relationship between a dependent (target) and independent (predictor) variables with one or more independent variables. More specifically, Regression analysis helps us to understand how the value of the dependent variable is changing corresponding to an independent variable when other independent variables are held fixed.\n",
    "It predicts continuous/real values such as temperature, age, salary, price, etc.\n",
    "\n",
    "##DNN:\n",
    "A deep neural network (DNN) is a type of artificial neural network that consists of multiple layers of interconnected nodes, called neurons. DNNs are a fundamental component of deep learning, a subfield of machine learning, and they are known for their ability to learn complex patterns and representations from large amounts of data.\n",
    "\n",
    "## Applications:\n",
    "Computer Vision: \n",
    "Speech Recognition\n",
    "Recommender Systems\n",
    "Healthcare \n",
    "Finance\n",
    "Gaming\n",
    "Robotics\n",
    "\n",
    "##Epoch:\n",
    "an epoch refers to a complete iteration over the entire training dataset during the training process. It represents one cycle where the model receives the entire training dataset, makes predictions, computes the loss, and updates its parameters to improve its performance.\n",
    " \n",
    "##Adam Optimizer:\n",
    "Adam (Adaptive Moment Estimation) is an optimization algorithm commonly used in deep learning for training neural networks. It combines the benefits of two other popular optimization algorithms: AdaGrad and RMSProp. Adam adapts the learning rate for each parameter in the network based on the average of both the gradients and the squared gradients, allowing for faster convergence and better performance.\n",
    "\n",
    "Mean Squared Error (MSE):\n",
    "MSE is a widely used metric that calculates the average squared difference between the predicted values and the actual values.\n",
    "It penalizes large errors more heavily than smaller errors because of the squaring operation.\n",
    "The formula for MSE is:\n",
    "MSE = (1/n) * Σ(y - ŷ)^2\n",
    "where n is the number of data points, y is the actual value, and ŷ is the predicted value.\n",
    "Mean Absolute Error (MAE):\n",
    "\n",
    "MAE is another popular metric that measures the average absolute difference between the predicted values and the actual values.\n",
    "It gives equal weight to all errors without squaring them.\n",
    "The formula for MAE is:\n",
    "MAE = (1/n) * Σ|y - ŷ|\n",
    "where n is the number of data points, y is the actual value, and ŷ is the predicted value.\n",
    "\n",
    "\n",
    "pandas (as pd): Used for data manipulation and analysis.\n",
    "numpy (as np): Used for numerical operations and array manipulation.\n",
    "tensorflow (as keras): A popular deep learning framework.\n",
    "train_test_split function from sklearn.model_selection: Used to split the dataset into training and testing sets."
   ]
  }
 ],
 "metadata": {
  "colab": {
   "provenance": []
  },
  "kernelspec": {
   "display_name": "Python 3 (ipykernel)",
   "language": "python",
   "name": "python3"
  },
  "language_info": {
   "codemirror_mode": {
    "name": "ipython",
    "version": 3
   },
   "file_extension": ".py",
   "mimetype": "text/x-python",
   "name": "python",
   "nbconvert_exporter": "python",
   "pygments_lexer": "ipython3",
   "version": "3.11.0"
  }
 },
 "nbformat": 4,
 "nbformat_minor": 4
}
